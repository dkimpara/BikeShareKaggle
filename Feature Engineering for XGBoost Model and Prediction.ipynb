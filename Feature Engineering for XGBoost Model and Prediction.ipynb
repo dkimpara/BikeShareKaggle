{
 "cells": [
  {
   "cell_type": "markdown",
   "metadata": {},
   "source": [
    "# XGBoost Hyperparameter tuning with Feature Engineering\n",
    "\n",
    "We experiment with feature engineering for time data.\n",
    "\n",
    "Hyperparameter tuning for this feature set for the Kaggle competition: https://www.kaggle.com/c/bike-sharing-demand\n",
    "See the main notebook for a full explanation\n",
    "\n",
    "The notebook is organized into the following sections:\n",
    "- Feature Engineering\n",
    "- XGBoost Model hyperparameter tuning for \n"
   ]
  },
  {
   "cell_type": "markdown",
   "metadata": {},
   "source": [
    "Data Notes: (see main notebook for details)\n",
    "Notation notes: think of variable 'data' as the raw data table"
   ]
  },
  {
   "cell_type": "code",
   "execution_count": 1,
   "metadata": {},
   "outputs": [
    {
     "name": "stderr",
     "output_type": "stream",
     "text": [
      "C:\\Users\\dhamm\\Anaconda2\\lib\\site-packages\\sklearn\\cross_validation.py:41: DeprecationWarning: This module was deprecated in version 0.18 in favor of the model_selection module into which all the refactored classes and functions are moved. Also note that the interface of the new CV iterators are different from that of this module. This module will be removed in 0.20.\n",
      "  \"This module will be removed in 0.20.\", DeprecationWarning)\n"
     ]
    }
   ],
   "source": [
    "import pandas as pd\n",
    "import seaborn as sns\n",
    "import matplotlib\n",
    "import numpy as np\n",
    "import scipy as sp\n",
    "import matplotlib.pyplot as plt\n",
    "import xgboost as xgb\n",
    "import warnings\n",
    "\n",
    "warnings.filterwarnings(\"ignore\", category=DeprecationWarning)\n"
   ]
  },
  {
   "cell_type": "markdown",
   "metadata": {},
   "source": [
    "# Data Preparation\n"
   ]
  },
  {
   "cell_type": "code",
   "execution_count": 2,
   "metadata": {
    "scrolled": true
   },
   "outputs": [
    {
     "name": "stdout",
     "output_type": "stream",
     "text": [
      "<class 'pandas.core.frame.DataFrame'>\n",
      "RangeIndex: 10886 entries, 0 to 10885\n",
      "Data columns (total 12 columns):\n",
      "datetime      10886 non-null object\n",
      "season        10886 non-null int64\n",
      "holiday       10886 non-null int64\n",
      "workingday    10886 non-null int64\n",
      "weather       10886 non-null int64\n",
      "temp          10886 non-null float64\n",
      "atemp         10886 non-null float64\n",
      "humidity      10886 non-null int64\n",
      "windspeed     10886 non-null float64\n",
      "casual        10886 non-null int64\n",
      "registered    10886 non-null int64\n",
      "count         10886 non-null int64\n",
      "dtypes: float64(3), int64(8), object(1)\n",
      "memory usage: 1020.6+ KB\n"
     ]
    }
   ],
   "source": [
    "data = pd.read_csv(\"train.csv\")\n",
    "data.info()"
   ]
  },
  {
   "cell_type": "markdown",
   "metadata": {},
   "source": [
    "\n",
    "### Cleaning up the date format:\n",
    "- convert to datetime\n",
    "- change index\n",
    "- add date col\n",
    "- add y,m,d,hr cols\n",
    "- drop datetime col"
   ]
  },
  {
   "cell_type": "code",
   "execution_count": 3,
   "metadata": {
    "collapsed": true
   },
   "outputs": [],
   "source": [
    "data['datetime'] = pd.to_datetime(data.datetime)\n",
    "data.index = data.datetime\n",
    "data['date'] = data['datetime'].dt.date\n",
    "\n",
    "data['year'] = data['datetime'].dt.year\n",
    "data['month'] = data['datetime'].dt.month\n",
    "data['day'] = data['datetime'].dt.day\n",
    "data['hour'] = data['datetime'].dt.hour\n",
    "data = data.drop([\"datetime\"], axis = 1)"
   ]
  },
  {
   "cell_type": "markdown",
   "metadata": {},
   "source": [
    "### Change to categorical variables"
   ]
  },
  {
   "cell_type": "code",
   "execution_count": 4,
   "metadata": {
    "collapsed": true
   },
   "outputs": [],
   "source": [
    "cat_vars = [\"season\",\"holiday\",\"workingday\",\"weather\",\"hour\",\"year\",\"month\",\"day\"]\n",
    "for var in cat_vars:\n",
    "    data[var] = data[var].astype(\"category\")\n"
   ]
  },
  {
   "cell_type": "markdown",
   "metadata": {
    "collapsed": true
   },
   "source": [
    "from sklearn.model_selection import train_test_split\n",
    "\n",
    "reg_cat_vars = ['season','weather','hour','year','month','day']\n",
    "cat_dummies = pd.get_dummies(dataDropped[reg_cat_vars], drop_first = True)\n",
    "cat_dummies = cat_dummies.drop(['weather_4'], axis=1) #only 1 data point had category 4 weather\n",
    "\n",
    "dataReg = pd.concat([dataDropped[['temp','humidity','holiday','workingday']], cat_dummies], axis=1)\n",
    "\n",
    "X_train, X_test, y_train, y_test = train_test_split(dataReg, dataDropped['count'], test_size=0.2, random_state=0)\n",
    "\n",
    "y_train = np.log1p(y_train)\n",
    "y_test = np.log1p(y_test)"
   ]
  },
  {
   "cell_type": "markdown",
   "metadata": {},
   "source": [
    "# Feature Engineering\n",
    "Since time is cyclic in nature (23.00 is close to 00.00), we encode the hour of the day feature to better reflect this.\n"
   ]
  },
  {
   "cell_type": "code",
   "execution_count": 5,
   "metadata": {
    "collapsed": true
   },
   "outputs": [],
   "source": [
    "data['sinhour'], data['coshour'] = np.sin(2*np.pi*data.hour/24), np.cos(2*np.pi*data.hour/24)"
   ]
  },
  {
   "cell_type": "code",
   "execution_count": 6,
   "metadata": {},
   "outputs": [
    {
     "data": {
      "image/png": "[encoded data removed]",
      "text/plain": [
       "<matplotlib.figure.Figure at 0x46acc88>"
      ]
     },
     "metadata": {},
     "output_type": "display_data"
    }
   ],
   "source": [
    "#check encoding\n",
    "data.plot.scatter('sinhour','coshour').set_aspect('equal');\n",
    "plt.show()"
   ]
  },
  {
   "cell_type": "markdown",
   "metadata": {},
   "source": [
    "We perform the same encoding on months"
   ]
  },
  {
   "cell_type": "code",
   "execution_count": 7,
   "metadata": {},
   "outputs": [
    {
     "data": {
      "image/png": "[encoded data removed]",
      "text/plain": [
       "<matplotlib.figure.Figure at 0xd3b2a20>"
      ]
     },
     "metadata": {},
     "output_type": "display_data"
    }
   ],
   "source": [
    "data['sinmonth'], data['cosmonth'] = np.sin(2*np.pi*data.month/12), np.cos(2*np.pi*data.month/12)\n",
    "#check encoding\n",
    "data.plot.scatter('sinmonth','cosmonth').set_aspect('equal');\n",
    "plt.show()"
   ]
  },
  {
   "cell_type": "code",
   "execution_count": 8,
   "metadata": {},
   "outputs": [
    {
     "name": "stdout",
     "output_type": "stream",
     "text": [
      "<class 'pandas.core.frame.DataFrame'>\n",
      "DatetimeIndex: 10886 entries, 2011-01-01 00:00:00 to 2012-12-19 23:00:00\n",
      "Data columns (total 20 columns):\n",
      "season        10886 non-null category\n",
      "holiday       10886 non-null category\n",
      "workingday    10886 non-null category\n",
      "weather       10886 non-null category\n",
      "temp          10886 non-null float64\n",
      "atemp         10886 non-null float64\n",
      "humidity      10886 non-null int64\n",
      "windspeed     10886 non-null float64\n",
      "casual        10886 non-null int64\n",
      "registered    10886 non-null int64\n",
      "count         10886 non-null int64\n",
      "date          10886 non-null object\n",
      "year          10886 non-null category\n",
      "month         10886 non-null category\n",
      "day           10886 non-null category\n",
      "hour          10886 non-null category\n",
      "sinhour       10886 non-null float64\n",
      "coshour       10886 non-null float64\n",
      "sinmonth      10886 non-null float64\n",
      "cosmonth      10886 non-null float64\n",
      "dtypes: category(8), float64(7), int64(4), object(1)\n",
      "memory usage: 1.2+ MB\n"
     ]
    }
   ],
   "source": [
    "data.info()"
   ]
  },
  {
   "cell_type": "markdown",
   "metadata": {},
   "source": [
    "# XGBoost Model"
   ]
  },
  {
   "cell_type": "markdown",
   "metadata": {},
   "source": [
    "Define Error Function"
   ]
  },
  {
   "cell_type": "code",
   "execution_count": 9,
   "metadata": {
    "collapsed": true
   },
   "outputs": [],
   "source": [
    "def rmsle(y, y_preds): #error function defined in the competition\n",
    "    y = np.exp(y)\n",
    "    y_preds = np.exp(y_preds)\n",
    "    log1 = np.nan_to_num(np.array([np.log(v + 1) for v in y]))\n",
    "    log2 = np.nan_to_num(np.array([np.log(v + 1) for v in y_preds]))\n",
    "    calc = (log1 - log2) ** 2\n",
    "    return np.sqrt(np.mean(calc))"
   ]
  },
  {
   "cell_type": "markdown",
   "metadata": {},
   "source": [
    "Create training and test set with dummy and one-hot-encoding. XGBoost is very \"robust to correlated variables\" so no need to remove certain vars.\n"
   ]
  },
  {
   "cell_type": "code",
   "execution_count": 32,
   "metadata": {},
   "outputs": [
    {
     "ename": "ValueError",
     "evalue": "list.remove(x): x not in list",
     "output_type": "error",
     "traceback": [
      "\u001b[1;31m\u001b[0m",
      "\u001b[1;31mValueError\u001b[0mTraceback (most recent call last)",
      "\u001b[1;32m<ipython-input-32-3b1d0cfed6b4>\u001b[0m in \u001b[0;36m<module>\u001b[1;34m()\u001b[0m\n\u001b[0;32m      1\u001b[0m \u001b[1;32mfrom\u001b[0m \u001b[0msklearn\u001b[0m\u001b[1;33m.\u001b[0m\u001b[0mmodel_selection\u001b[0m \u001b[1;32mimport\u001b[0m \u001b[0mtrain_test_split\u001b[0m\u001b[1;33m\u001b[0m\u001b[0m\n\u001b[0;32m      2\u001b[0m \u001b[1;33m\u001b[0m\u001b[0m\n\u001b[1;32m----> 3\u001b[1;33m \u001b[0mcat_vars\u001b[0m\u001b[1;33m.\u001b[0m\u001b[0mremove\u001b[0m\u001b[1;33m(\u001b[0m\u001b[1;34m\"day\"\u001b[0m\u001b[1;33m)\u001b[0m \u001b[1;31m#won't be using day predictor for XGB since 20th-30th doesn't exist in training data\u001b[0m\u001b[1;33m\u001b[0m\u001b[0m\n\u001b[0m\u001b[0;32m      4\u001b[0m \u001b[0mcat_vars\u001b[0m\u001b[1;33m.\u001b[0m\u001b[0mremove\u001b[0m\u001b[1;33m(\u001b[0m\u001b[1;34m\"hour\"\u001b[0m\u001b[1;33m)\u001b[0m\u001b[1;33m\u001b[0m\u001b[0m\n\u001b[0;32m      5\u001b[0m \u001b[0mcat_vars\u001b[0m\u001b[1;33m.\u001b[0m\u001b[0mremove\u001b[0m\u001b[1;33m(\u001b[0m\u001b[1;34m\"month\"\u001b[0m\u001b[1;33m)\u001b[0m \u001b[1;31m#we encoded these earlier\u001b[0m\u001b[1;33m\u001b[0m\u001b[0m\n",
      "\u001b[1;31mValueError\u001b[0m: list.remove(x): x not in list"
     ]
    }
   ],
   "source": [
    "from sklearn.model_selection import train_test_split\n",
    "\n",
    "cat_vars.remove(\"day\") #won't be using day predictor for XGB since 20th-30th doesn't exist in training data\n",
    "cat_vars.remove(\"hour\")\n",
    "cat_vars.remove(\"month\") #we encoded these earlier\n",
    "\n",
    "one_hot_vars = pd.get_dummies(data[cat_vars], drop_first = True)\n",
    "one_hot_vars = one_hot_vars.drop(['weather_4'], axis=1) #only 1 data point had category 4 weather\n",
    "oneHotData = pd.concat([data[['temp','atemp','humidity','windspeed','sinhour','coshour','sinmonth','cosmonth']], \n",
    "                       one_hot_vars], axis=1)\n",
    "\n",
    "oh_X_train, oh_X_test, oh_y_train, oh_y_test = train_test_split(oneHotData, np.log1p(data['count']), \n",
    "                                                                test_size=0.2, random_state=0)"
   ]
  },
  {
   "cell_type": "code",
   "execution_count": 34,
   "metadata": {},
   "outputs": [
    {
     "name": "stdout",
     "output_type": "stream",
     "text": [
      "<class 'pandas.core.frame.DataFrame'>\n",
      "DatetimeIndex: 10886 entries, 2011-01-01 00:00:00 to 2012-12-19 23:00:00\n",
      "Data columns (total 16 columns):\n",
      "temp            10886 non-null float64\n",
      "atemp           10886 non-null float64\n",
      "humidity        10886 non-null int64\n",
      "windspeed       10886 non-null float64\n",
      "sinhour         10886 non-null float64\n",
      "coshour         10886 non-null float64\n",
      "sinmonth        10886 non-null float64\n",
      "cosmonth        10886 non-null float64\n",
      "season_2        10886 non-null uint8\n",
      "season_3        10886 non-null uint8\n",
      "season_4        10886 non-null uint8\n",
      "holiday_1       10886 non-null uint8\n",
      "workingday_1    10886 non-null uint8\n",
      "weather_2       10886 non-null uint8\n",
      "weather_3       10886 non-null uint8\n",
      "year_2012       10886 non-null uint8\n",
      "dtypes: float64(7), int64(1), uint8(8)\n",
      "memory usage: 1.1 MB\n"
     ]
    }
   ],
   "source": []
  },
  {
   "cell_type": "code",
   "execution_count": 12,
   "metadata": {
    "collapsed": true
   },
   "outputs": [],
   "source": [
    "from xgboost.sklearn import XGBRegressor\n",
    "from sklearn import metrics\n",
    "from sklearn.grid_search import GridSearchCV\n",
    "\n",
    "def trainModel(X_train, X_test, y_train, y_test, model, erounds):\n",
    "    xtrain = X_train\n",
    "    ytrain = y_train\n",
    "    xtest = X_test\n",
    "    ytest = y_test\n",
    "\n",
    "    model.fit(xtrain, ytrain, eval_set=[(xtrain, ytrain),(xtest,ytest)], early_stopping_rounds=erounds)\n",
    "    return model\n",
    "\n",
    "\n",
    "def gridSearch(search_params, model, X_train, y_train):\n",
    "    search = GridSearchCV(estimator = model, param_grid = search_params, \n",
    "                          scoring = 'neg_mean_squared_log_error', n_jobs=4, iid=False, cv=5)\n",
    "    search.fit(X_train, y_train)\n",
    "    print(search.grid_scores_, search.best_params_, search.best_score_)\n"
   ]
  },
  {
   "cell_type": "markdown",
   "metadata": {},
   "source": [
    "Find optimal params and fit model for dummy encoding"
   ]
  },
  {
   "cell_type": "code",
   "execution_count": 75,
   "metadata": {},
   "outputs": [],
   "source": [
    "%%capture\n",
    "model_init = XGBRegressor(learning_rate = 0.2,\n",
    "               n_estimators=300,\n",
    "               max_depth=8,\n",
    "               min_child_weight=6,\n",
    "               gamma=0.4,\n",
    "               subsample=0.8,\n",
    "               colsample_bytree=0.8,\n",
    "               objective= 'reg:linear',\n",
    "               scale_pos_weight=1,\n",
    "               silent = True,\n",
    "               seed=1)\n",
    "m = trainModel(oh_X_train, oh_X_test, oh_y_train, oh_y_test, model_init, 50)"
   ]
  },
  {
   "cell_type": "markdown",
   "metadata": {},
   "source": [
    "Find optimal params and fit model for one hot encoding (one hot encoding has the best chance for max performance)"
   ]
  },
  {
   "cell_type": "code",
   "execution_count": 14,
   "metadata": {},
   "outputs": [
    {
     "name": "stdout",
     "output_type": "stream",
     "text": [
      "([mean: -0.00715, std: 0.00071, params: {'max_depth': 3, 'min_child_weight': 2}, mean: -0.00714, std: 0.00070, params: {'max_depth': 3, 'min_child_weight': 4}, mean: -0.00713, std: 0.00076, params: {'max_depth': 3, 'min_child_weight': 6}, mean: -0.00723, std: 0.00080, params: {'max_depth': 3, 'min_child_weight': 8}, mean: -0.00672, std: 0.00085, params: {'max_depth': 5, 'min_child_weight': 2}, mean: -0.00666, std: 0.00087, params: {'max_depth': 5, 'min_child_weight': 4}, mean: -0.00675, std: 0.00088, params: {'max_depth': 5, 'min_child_weight': 6}, mean: -0.00670, std: 0.00084, params: {'max_depth': 5, 'min_child_weight': 8}, mean: -0.00720, std: 0.00105, params: {'max_depth': 7, 'min_child_weight': 2}, mean: -0.00717, std: 0.00098, params: {'max_depth': 7, 'min_child_weight': 4}, mean: -0.00714, std: 0.00087, params: {'max_depth': 7, 'min_child_weight': 6}, mean: -0.00705, std: 0.00093, params: {'max_depth': 7, 'min_child_weight': 8}, mean: -0.00787, std: 0.00095, params: {'max_depth': 9, 'min_child_weight': 2}, mean: -0.00777, std: 0.00105, params: {'max_depth': 9, 'min_child_weight': 4}, mean: -0.00763, std: 0.00092, params: {'max_depth': 9, 'min_child_weight': 6}, mean: -0.00749, std: 0.00094, params: {'max_depth': 9, 'min_child_weight': 8}], {'max_depth': 5, 'min_child_weight': 4}, -0.006658332040017643)\n"
     ]
    }
   ],
   "source": [
    "s1params = {\n",
    "    'max_depth':range(3,10,2),\n",
    "    'min_child_weight':range(2,10,2)\n",
    "}\n",
    "\n",
    "gridSearch(s1params, m, oh_X_train, oh_y_train)"
   ]
  },
  {
   "cell_type": "code",
   "execution_count": 15,
   "metadata": {},
   "outputs": [
    {
     "name": "stdout",
     "output_type": "stream",
     "text": [
      "([mean: -0.00682, std: 0.00083, params: {'max_depth': 4, 'min_child_weight': 2}, mean: -0.00689, std: 0.00086, params: {'max_depth': 4, 'min_child_weight': 3}, mean: -0.00686, std: 0.00079, params: {'max_depth': 4, 'min_child_weight': 4}, mean: -0.00687, std: 0.00084, params: {'max_depth': 4, 'min_child_weight': 5}, mean: -0.00680, std: 0.00086, params: {'max_depth': 4, 'min_child_weight': 6}, mean: -0.00672, std: 0.00085, params: {'max_depth': 5, 'min_child_weight': 2}, mean: -0.00669, std: 0.00082, params: {'max_depth': 5, 'min_child_weight': 3}, mean: -0.00666, std: 0.00087, params: {'max_depth': 5, 'min_child_weight': 4}, mean: -0.00669, std: 0.00087, params: {'max_depth': 5, 'min_child_weight': 5}, mean: -0.00675, std: 0.00088, params: {'max_depth': 5, 'min_child_weight': 6}, mean: -0.00694, std: 0.00090, params: {'max_depth': 6, 'min_child_weight': 2}, mean: -0.00689, std: 0.00101, params: {'max_depth': 6, 'min_child_weight': 3}, mean: -0.00688, std: 0.00087, params: {'max_depth': 6, 'min_child_weight': 4}, mean: -0.00685, std: 0.00086, params: {'max_depth': 6, 'min_child_weight': 5}, mean: -0.00692, std: 0.00079, params: {'max_depth': 6, 'min_child_weight': 6}], {'max_depth': 5, 'min_child_weight': 4}, -0.006658332040017643)\n"
     ]
    }
   ],
   "source": [
    "s2params = {\n",
    "    'max_depth':[4,5,6],\n",
    "    'min_child_weight':range(2,7)\n",
    "}\n",
    "gridSearch(s2params, m, oh_X_train, oh_y_train)\n"
   ]
  },
  {
   "cell_type": "code",
   "execution_count": 76,
   "metadata": {},
   "outputs": [],
   "source": [
    "%%capture\n",
    "model_2 = XGBRegressor(learning_rate = 0.2,\n",
    "               n_estimators=300,\n",
    "               max_depth=5,\n",
    "               min_child_weight=4,\n",
    "               gamma=0,\n",
    "               subsample=0.8,\n",
    "               colsample_bytree=0.8,\n",
    "               objective= 'reg:linear',\n",
    "               scale_pos_weight=1,\n",
    "               silent = True,\n",
    "               seed=1)\n",
    "m2 = trainModel(oh_X_train, oh_X_test, oh_y_train, oh_y_test, model_2, 50)"
   ]
  },
  {
   "cell_type": "code",
   "execution_count": 17,
   "metadata": {},
   "outputs": [
    {
     "name": "stdout",
     "output_type": "stream",
     "text": [
      "([mean: -0.00684, std: 0.00092, params: {'gamma': 0.0}, mean: -0.00684, std: 0.00082, params: {'gamma': 0.1}, mean: -0.00681, std: 0.00082, params: {'gamma': 0.2}, mean: -0.00673, std: 0.00085, params: {'gamma': 0.3}, mean: -0.00666, std: 0.00087, params: {'gamma': 0.4}], {'gamma': 0.4}, -0.006658332040017643)\n"
     ]
    }
   ],
   "source": [
    "s3params = {\n",
    "    'gamma':[i/10.0 for i in range(0,5)]\n",
    "}\n",
    "\n",
    "gridSearch(s3params, m2, oh_X_train, oh_y_train)\n",
    "\n"
   ]
  },
  {
   "cell_type": "code",
   "execution_count": 77,
   "metadata": {},
   "outputs": [],
   "source": [
    "%%capture\n",
    "model_3 = XGBRegressor(learning_rate = 0.2,\n",
    "               n_estimators=300,\n",
    "               max_depth=5,\n",
    "               min_child_weight=4,\n",
    "               gamma=0.4,\n",
    "               subsample=0.8,\n",
    "               colsample_bytree=0.8,\n",
    "               objective= 'reg:linear',\n",
    "               scale_pos_weight=1,\n",
    "               silent = True,\n",
    "               seed=1)\n",
    "m3 = trainModel(oh_X_train, oh_X_test, oh_y_train, oh_y_test, model_3, 50)"
   ]
  },
  {
   "cell_type": "code",
   "execution_count": 19,
   "metadata": {},
   "outputs": [
    {
     "name": "stdout",
     "output_type": "stream",
     "text": [
      "([mean: -0.00714, std: 0.00084, params: {'subsample': 0.6, 'colsample_bytree': 0.6}, mean: -0.00707, std: 0.00087, params: {'subsample': 0.7, 'colsample_bytree': 0.6}, mean: -0.00689, std: 0.00074, params: {'subsample': 0.8, 'colsample_bytree': 0.6}, mean: -0.00690, std: 0.00083, params: {'subsample': 0.9, 'colsample_bytree': 0.6}, mean: -0.00677, std: 0.00083, params: {'subsample': 0.6, 'colsample_bytree': 0.7}, mean: -0.00698, std: 0.00083, params: {'subsample': 0.7, 'colsample_bytree': 0.7}, mean: -0.00692, std: 0.00089, params: {'subsample': 0.8, 'colsample_bytree': 0.7}, mean: -0.00675, std: 0.00086, params: {'subsample': 0.9, 'colsample_bytree': 0.7}, mean: -0.00693, std: 0.00097, params: {'subsample': 0.6, 'colsample_bytree': 0.8}, mean: -0.00679, std: 0.00078, params: {'subsample': 0.7, 'colsample_bytree': 0.8}, mean: -0.00666, std: 0.00087, params: {'subsample': 0.8, 'colsample_bytree': 0.8}, mean: -0.00671, std: 0.00087, params: {'subsample': 0.9, 'colsample_bytree': 0.8}, mean: -0.00677, std: 0.00085, params: {'subsample': 0.6, 'colsample_bytree': 0.9}, mean: -0.00676, std: 0.00083, params: {'subsample': 0.7, 'colsample_bytree': 0.9}, mean: -0.00683, std: 0.00092, params: {'subsample': 0.8, 'colsample_bytree': 0.9}, mean: -0.00670, std: 0.00089, params: {'subsample': 0.9, 'colsample_bytree': 0.9}], {'subsample': 0.8, 'colsample_bytree': 0.8}, -0.006658332040017643)\n"
     ]
    }
   ],
   "source": [
    "s4params = {\n",
    "    'subsample':[i/10.0 for i in range(6,10)],\n",
    "    'colsample_bytree':[i/10.0 for i in range(6,10)]\n",
    "}\n",
    "gridSearch(s4params, m3, oh_X_train, oh_y_train)"
   ]
  },
  {
   "cell_type": "code",
   "execution_count": 78,
   "metadata": {},
   "outputs": [],
   "source": [
    "%%capture\n",
    "model_4 = XGBRegressor(learning_rate = 0.2,\n",
    "               n_estimators=300,\n",
    "               max_depth=5,\n",
    "               min_child_weight=5,\n",
    "               gamma=0.4,\n",
    "               subsample=0.8,\n",
    "               colsample_bytree=0.8,\n",
    "               objective= 'reg:linear',\n",
    "               scale_pos_weight=1,\n",
    "               silent = True,\n",
    "               seed=1)\n",
    "m4 = trainModel(oh_X_train, oh_X_test, oh_y_train, oh_y_test, model_4, 50)"
   ]
  },
  {
   "cell_type": "code",
   "execution_count": 22,
   "metadata": {},
   "outputs": [
    {
     "name": "stdout",
     "output_type": "stream",
     "text": [
      "([mean: -0.00683, std: 0.00086, params: {'subsample': 0.75, 'colsample_bytree': 0.75}, mean: -0.00669, std: 0.00087, params: {'subsample': 0.8, 'colsample_bytree': 0.75}, mean: -0.00670, std: 0.00089, params: {'subsample': 0.85, 'colsample_bytree': 0.75}, mean: -0.00683, std: 0.00086, params: {'subsample': 0.75, 'colsample_bytree': 0.8}, mean: -0.00669, std: 0.00087, params: {'subsample': 0.8, 'colsample_bytree': 0.8}, mean: -0.00670, std: 0.00089, params: {'subsample': 0.85, 'colsample_bytree': 0.8}, mean: -0.00677, std: 0.00088, params: {'subsample': 0.75, 'colsample_bytree': 0.85}, mean: -0.00678, std: 0.00087, params: {'subsample': 0.8, 'colsample_bytree': 0.85}, mean: -0.00674, std: 0.00084, params: {'subsample': 0.85, 'colsample_bytree': 0.85}], {'subsample': 0.8, 'colsample_bytree': 0.75}, -0.006692968190343085)\n"
     ]
    }
   ],
   "source": [
    "s5params = {\n",
    " 'subsample':[i/100.0 for i in range(75,90,5)],\n",
    " 'colsample_bytree':[i/100.0 for i in range(75,90,5)]\n",
    "}\n",
    "\n",
    "gridSearch(s5params, m4, oh_X_train, oh_y_train)"
   ]
  },
  {
   "cell_type": "code",
   "execution_count": 79,
   "metadata": {},
   "outputs": [],
   "source": [
    "%%capture\n",
    "model_5 = XGBRegressor(learning_rate = 0.2,\n",
    "               n_estimators=300,\n",
    "               max_depth=5,\n",
    "               min_child_weight=5,\n",
    "               gamma=0.4,\n",
    "               subsample=0.8,\n",
    "               colsample_bytree=0.75,\n",
    "               objective= 'reg:linear',\n",
    "               scale_pos_weight=1,\n",
    "               silent = True,\n",
    "               seed=1)\n",
    "m5 = trainModel(oh_X_train, oh_X_test, oh_y_train, oh_y_test, model_5, 50)"
   ]
  },
  {
   "cell_type": "code",
   "execution_count": 28,
   "metadata": {},
   "outputs": [
    {
     "name": "stdout",
     "output_type": "stream",
     "text": [
      "([mean: -0.00669, std: 0.00087, params: {'reg_alpha': 1e-05}, mean: -0.00666, std: 0.00088, params: {'reg_alpha': 0.01}, mean: -0.00686, std: 0.00086, params: {'reg_alpha': 0.1}, mean: -0.00680, std: 0.00087, params: {'reg_alpha': 1}, mean: -0.01316, std: 0.00153, params: {'reg_alpha': 100}], {'reg_alpha': 0.01}, -0.006664516994973095)\n"
     ]
    }
   ],
   "source": [
    "s6params = {\n",
    " 'reg_alpha':[1e-5, 1e-2, 0.1, 1, 100]\n",
    "}\n",
    "gridSearch(s6params, m5, oh_X_train, oh_y_train)"
   ]
  },
  {
   "cell_type": "code",
   "execution_count": 29,
   "metadata": {},
   "outputs": [
    {
     "name": "stdout",
     "output_type": "stream",
     "text": [
      "([mean: -0.00669, std: 0.00087, params: {'reg_alpha': 0}, mean: -0.00673, std: 0.00091, params: {'reg_alpha': 0.001}, mean: -0.00677, std: 0.00084, params: {'reg_alpha': 0.005}, mean: -0.00666, std: 0.00088, params: {'reg_alpha': 0.01}, mean: -0.00670, std: 0.00079, params: {'reg_alpha': 0.05}], {'reg_alpha': 0.01}, -0.006664516994973095)\n"
     ]
    }
   ],
   "source": [
    "s7params = {\n",
    " 'reg_alpha':[0, 0.001, 0.005, 0.01, 0.05]\n",
    "}\n",
    "gridSearch(s7params, m5, oh_X_train, oh_y_train)"
   ]
  },
  {
   "cell_type": "code",
   "execution_count": 80,
   "metadata": {},
   "outputs": [],
   "source": [
    "%%capture\n",
    "#this is the final model we want to train\n",
    "model_6 = XGBRegressor(learning_rate = 0.01,\n",
    "               n_estimators=3000,\n",
    "               max_depth=5,\n",
    "               min_child_weight=5,\n",
    "               gamma=0.4,\n",
    "               subsample=0.8,\n",
    "               colsample_bytree=0.75,\n",
    "               reg_alpha = 0.01,\n",
    "               objective='reg:linear',\n",
    "               scale_pos_weight=1,\n",
    "               silent = True,\n",
    "               seed=1)\n",
    "m6 = trainModel(oh_X_train, oh_X_test, oh_y_train, oh_y_test, model_6, 50)"
   ]
  },
  {
   "cell_type": "markdown",
   "metadata": {},
   "source": [
    "# Predicting and writing to file\n"
   ]
  },
  {
   "cell_type": "code",
   "execution_count": 53,
   "metadata": {},
   "outputs": [
    {
     "data": {
      "text/html": [
       "<div>\n",
       "<style>\n",
       "    .dataframe thead tr:only-child th {\n",
       "        text-align: right;\n",
       "    }\n",
       "\n",
       "    .dataframe thead th {\n",
       "        text-align: left;\n",
       "    }\n",
       "\n",
       "    .dataframe tbody tr th {\n",
       "        vertical-align: top;\n",
       "    }\n",
       "</style>\n",
       "<table border=\"1\" class=\"dataframe\">\n",
       "  <thead>\n",
       "    <tr style=\"text-align: right;\">\n",
       "      <th></th>\n",
       "      <th>datetime</th>\n",
       "      <th>season</th>\n",
       "      <th>holiday</th>\n",
       "      <th>workingday</th>\n",
       "      <th>weather</th>\n",
       "      <th>temp</th>\n",
       "      <th>atemp</th>\n",
       "      <th>humidity</th>\n",
       "      <th>windspeed</th>\n",
       "    </tr>\n",
       "  </thead>\n",
       "  <tbody>\n",
       "    <tr>\n",
       "      <th>0</th>\n",
       "      <td>2011-01-20 00:00:00</td>\n",
       "      <td>1</td>\n",
       "      <td>0</td>\n",
       "      <td>1</td>\n",
       "      <td>1</td>\n",
       "      <td>10.66</td>\n",
       "      <td>11.365</td>\n",
       "      <td>56</td>\n",
       "      <td>26.0027</td>\n",
       "    </tr>\n",
       "    <tr>\n",
       "      <th>1</th>\n",
       "      <td>2011-01-20 01:00:00</td>\n",
       "      <td>1</td>\n",
       "      <td>0</td>\n",
       "      <td>1</td>\n",
       "      <td>1</td>\n",
       "      <td>10.66</td>\n",
       "      <td>13.635</td>\n",
       "      <td>56</td>\n",
       "      <td>0.0000</td>\n",
       "    </tr>\n",
       "    <tr>\n",
       "      <th>2</th>\n",
       "      <td>2011-01-20 02:00:00</td>\n",
       "      <td>1</td>\n",
       "      <td>0</td>\n",
       "      <td>1</td>\n",
       "      <td>1</td>\n",
       "      <td>10.66</td>\n",
       "      <td>13.635</td>\n",
       "      <td>56</td>\n",
       "      <td>0.0000</td>\n",
       "    </tr>\n",
       "    <tr>\n",
       "      <th>3</th>\n",
       "      <td>2011-01-20 03:00:00</td>\n",
       "      <td>1</td>\n",
       "      <td>0</td>\n",
       "      <td>1</td>\n",
       "      <td>1</td>\n",
       "      <td>10.66</td>\n",
       "      <td>12.880</td>\n",
       "      <td>56</td>\n",
       "      <td>11.0014</td>\n",
       "    </tr>\n",
       "    <tr>\n",
       "      <th>4</th>\n",
       "      <td>2011-01-20 04:00:00</td>\n",
       "      <td>1</td>\n",
       "      <td>0</td>\n",
       "      <td>1</td>\n",
       "      <td>1</td>\n",
       "      <td>10.66</td>\n",
       "      <td>12.880</td>\n",
       "      <td>56</td>\n",
       "      <td>11.0014</td>\n",
       "    </tr>\n",
       "  </tbody>\n",
       "</table>\n",
       "</div>"
      ],
      "text/plain": [
       "              datetime  season  holiday  workingday  weather   temp   atemp  \\\n",
       "0  2011-01-20 00:00:00       1        0           1        1  10.66  11.365   \n",
       "1  2011-01-20 01:00:00       1        0           1        1  10.66  13.635   \n",
       "2  2011-01-20 02:00:00       1        0           1        1  10.66  13.635   \n",
       "3  2011-01-20 03:00:00       1        0           1        1  10.66  12.880   \n",
       "4  2011-01-20 04:00:00       1        0           1        1  10.66  12.880   \n",
       "\n",
       "   humidity  windspeed  \n",
       "0        56    26.0027  \n",
       "1        56     0.0000  \n",
       "2        56     0.0000  \n",
       "3        56    11.0014  \n",
       "4        56    11.0014  "
      ]
     },
     "execution_count": 53,
     "metadata": {},
     "output_type": "execute_result"
    }
   ],
   "source": [
    "testdata = pd.read_csv(\"test.csv\")\n",
    "testdata.head()"
   ]
  },
  {
   "cell_type": "code",
   "execution_count": 54,
   "metadata": {},
   "outputs": [
    {
     "data": {
      "text/html": [
       "<div>\n",
       "<style>\n",
       "    .dataframe thead tr:only-child th {\n",
       "        text-align: right;\n",
       "    }\n",
       "\n",
       "    .dataframe thead th {\n",
       "        text-align: left;\n",
       "    }\n",
       "\n",
       "    .dataframe tbody tr th {\n",
       "        vertical-align: top;\n",
       "    }\n",
       "</style>\n",
       "<table border=\"1\" class=\"dataframe\">\n",
       "  <thead>\n",
       "    <tr style=\"text-align: right;\">\n",
       "      <th></th>\n",
       "      <th>datetime</th>\n",
       "      <th>season</th>\n",
       "      <th>holiday</th>\n",
       "      <th>workingday</th>\n",
       "      <th>weather</th>\n",
       "      <th>temp</th>\n",
       "      <th>atemp</th>\n",
       "      <th>humidity</th>\n",
       "      <th>windspeed</th>\n",
       "      <th>date</th>\n",
       "      <th>year</th>\n",
       "      <th>month</th>\n",
       "      <th>day</th>\n",
       "      <th>hour</th>\n",
       "    </tr>\n",
       "  </thead>\n",
       "  <tbody>\n",
       "    <tr>\n",
       "      <th>0</th>\n",
       "      <td>2011-01-20 00:00:00</td>\n",
       "      <td>1</td>\n",
       "      <td>0</td>\n",
       "      <td>1</td>\n",
       "      <td>1</td>\n",
       "      <td>10.66</td>\n",
       "      <td>11.365</td>\n",
       "      <td>56</td>\n",
       "      <td>26.0027</td>\n",
       "      <td>2011-01-20</td>\n",
       "      <td>2011</td>\n",
       "      <td>1</td>\n",
       "      <td>20</td>\n",
       "      <td>0</td>\n",
       "    </tr>\n",
       "    <tr>\n",
       "      <th>1</th>\n",
       "      <td>2011-01-20 01:00:00</td>\n",
       "      <td>1</td>\n",
       "      <td>0</td>\n",
       "      <td>1</td>\n",
       "      <td>1</td>\n",
       "      <td>10.66</td>\n",
       "      <td>13.635</td>\n",
       "      <td>56</td>\n",
       "      <td>0.0000</td>\n",
       "      <td>2011-01-20</td>\n",
       "      <td>2011</td>\n",
       "      <td>1</td>\n",
       "      <td>20</td>\n",
       "      <td>1</td>\n",
       "    </tr>\n",
       "    <tr>\n",
       "      <th>2</th>\n",
       "      <td>2011-01-20 02:00:00</td>\n",
       "      <td>1</td>\n",
       "      <td>0</td>\n",
       "      <td>1</td>\n",
       "      <td>1</td>\n",
       "      <td>10.66</td>\n",
       "      <td>13.635</td>\n",
       "      <td>56</td>\n",
       "      <td>0.0000</td>\n",
       "      <td>2011-01-20</td>\n",
       "      <td>2011</td>\n",
       "      <td>1</td>\n",
       "      <td>20</td>\n",
       "      <td>2</td>\n",
       "    </tr>\n",
       "    <tr>\n",
       "      <th>3</th>\n",
       "      <td>2011-01-20 03:00:00</td>\n",
       "      <td>1</td>\n",
       "      <td>0</td>\n",
       "      <td>1</td>\n",
       "      <td>1</td>\n",
       "      <td>10.66</td>\n",
       "      <td>12.880</td>\n",
       "      <td>56</td>\n",
       "      <td>11.0014</td>\n",
       "      <td>2011-01-20</td>\n",
       "      <td>2011</td>\n",
       "      <td>1</td>\n",
       "      <td>20</td>\n",
       "      <td>3</td>\n",
       "    </tr>\n",
       "    <tr>\n",
       "      <th>4</th>\n",
       "      <td>2011-01-20 04:00:00</td>\n",
       "      <td>1</td>\n",
       "      <td>0</td>\n",
       "      <td>1</td>\n",
       "      <td>1</td>\n",
       "      <td>10.66</td>\n",
       "      <td>12.880</td>\n",
       "      <td>56</td>\n",
       "      <td>11.0014</td>\n",
       "      <td>2011-01-20</td>\n",
       "      <td>2011</td>\n",
       "      <td>1</td>\n",
       "      <td>20</td>\n",
       "      <td>4</td>\n",
       "    </tr>\n",
       "  </tbody>\n",
       "</table>\n",
       "</div>"
      ],
      "text/plain": [
       "             datetime  season  holiday  workingday  weather   temp   atemp  \\\n",
       "0 2011-01-20 00:00:00       1        0           1        1  10.66  11.365   \n",
       "1 2011-01-20 01:00:00       1        0           1        1  10.66  13.635   \n",
       "2 2011-01-20 02:00:00       1        0           1        1  10.66  13.635   \n",
       "3 2011-01-20 03:00:00       1        0           1        1  10.66  12.880   \n",
       "4 2011-01-20 04:00:00       1        0           1        1  10.66  12.880   \n",
       "\n",
       "   humidity  windspeed        date  year  month  day  hour  \n",
       "0        56    26.0027  2011-01-20  2011      1   20     0  \n",
       "1        56     0.0000  2011-01-20  2011      1   20     1  \n",
       "2        56     0.0000  2011-01-20  2011      1   20     2  \n",
       "3        56    11.0014  2011-01-20  2011      1   20     3  \n",
       "4        56    11.0014  2011-01-20  2011      1   20     4  "
      ]
     },
     "execution_count": 54,
     "metadata": {},
     "output_type": "execute_result"
    }
   ],
   "source": [
    "testdata['datetime'] = pd.to_datetime(testdata.datetime)\n",
    "testdata['date'] = testdata['datetime'].dt.date\n",
    "\n",
    "testdata['year'] = testdata['datetime'].dt.year\n",
    "testdata['month'] = testdata['datetime'].dt.month\n",
    "testdata['day'] = testdata['datetime'].dt.day\n",
    "testdata['hour'] = testdata['datetime'].dt.hour\n",
    "testdata.head()"
   ]
  },
  {
   "cell_type": "markdown",
   "metadata": {},
   "source": [
    "### Change to categorical variables"
   ]
  },
  {
   "cell_type": "code",
   "execution_count": 56,
   "metadata": {},
   "outputs": [],
   "source": [
    "testdata['sinhour'], testdata['coshour'] = np.sin(2*np.pi*testdata.hour/24), np.cos(2*np.pi*testdata.hour/24)\n",
    "testdata['sinmonth'], testdata['cosmonth'] = np.sin(2*np.pi*testdata.month/12), np.cos(2*np.pi*testdata.month/12)\n",
    "\n",
    "cat_vars = [\"season\",\"holiday\",\"workingday\",\"weather\",\"year\"]\n",
    "for var in cat_vars:\n",
    "    testdata[var] = testdata[var].astype(\"category\")\n",
    "\n",
    "one_hot_vars = pd.get_dummies(testdata[cat_vars], drop_first = True)\n",
    "one_hot_vars = one_hot_vars.drop(['weather_4'], axis=1) #only 1 data point had category 4 weather\n",
    "testoneHotData = pd.concat([testdata[['temp','atemp','humidity','windspeed','sinhour','coshour','sinmonth','cosmonth']], \n",
    "                       one_hot_vars], axis=1)"
   ]
  },
  {
   "cell_type": "code",
   "execution_count": 57,
   "metadata": {},
   "outputs": [
    {
     "name": "stdout",
     "output_type": "stream",
     "text": [
      "<class 'pandas.core.frame.DataFrame'>\n",
      "RangeIndex: 6493 entries, 0 to 6492\n",
      "Data columns (total 16 columns):\n",
      "temp            6493 non-null float64\n",
      "atemp           6493 non-null float64\n",
      "humidity        6493 non-null int64\n",
      "windspeed       6493 non-null float64\n",
      "sinhour         6493 non-null float64\n",
      "coshour         6493 non-null float64\n",
      "sinmonth        6493 non-null float64\n",
      "cosmonth        6493 non-null float64\n",
      "season_2        6493 non-null uint8\n",
      "season_3        6493 non-null uint8\n",
      "season_4        6493 non-null uint8\n",
      "holiday_1       6493 non-null uint8\n",
      "workingday_1    6493 non-null uint8\n",
      "weather_2       6493 non-null uint8\n",
      "weather_3       6493 non-null uint8\n",
      "year_2012       6493 non-null uint8\n",
      "dtypes: float64(7), int64(1), uint8(8)\n",
      "memory usage: 456.6 KB\n"
     ]
    }
   ],
   "source": [
    "testoneHotData.info()"
   ]
  },
  {
   "cell_type": "markdown",
   "metadata": {},
   "source": [
    "### Make Predictions"
   ]
  },
  {
   "cell_type": "code",
   "execution_count": 72,
   "metadata": {},
   "outputs": [
    {
     "data": {
      "text/html": [
       "<div>\n",
       "<style>\n",
       "    .dataframe thead tr:only-child th {\n",
       "        text-align: right;\n",
       "    }\n",
       "\n",
       "    .dataframe thead th {\n",
       "        text-align: left;\n",
       "    }\n",
       "\n",
       "    .dataframe tbody tr th {\n",
       "        vertical-align: top;\n",
       "    }\n",
       "</style>\n",
       "<table border=\"1\" class=\"dataframe\">\n",
       "  <thead>\n",
       "    <tr style=\"text-align: right;\">\n",
       "      <th></th>\n",
       "      <th>datetime</th>\n",
       "      <th>0</th>\n",
       "    </tr>\n",
       "  </thead>\n",
       "  <tbody>\n",
       "    <tr>\n",
       "      <th>6488</th>\n",
       "      <td>2012-12-31 19:00:00</td>\n",
       "      <td>271.699249</td>\n",
       "    </tr>\n",
       "    <tr>\n",
       "      <th>6489</th>\n",
       "      <td>2012-12-31 20:00:00</td>\n",
       "      <td>196.457016</td>\n",
       "    </tr>\n",
       "    <tr>\n",
       "      <th>6490</th>\n",
       "      <td>2012-12-31 21:00:00</td>\n",
       "      <td>157.486847</td>\n",
       "    </tr>\n",
       "    <tr>\n",
       "      <th>6491</th>\n",
       "      <td>2012-12-31 22:00:00</td>\n",
       "      <td>128.412415</td>\n",
       "    </tr>\n",
       "    <tr>\n",
       "      <th>6492</th>\n",
       "      <td>2012-12-31 23:00:00</td>\n",
       "      <td>80.845810</td>\n",
       "    </tr>\n",
       "  </tbody>\n",
       "</table>\n",
       "</div>"
      ],
      "text/plain": [
       "                datetime           0\n",
       "6488 2012-12-31 19:00:00  271.699249\n",
       "6489 2012-12-31 20:00:00  196.457016\n",
       "6490 2012-12-31 21:00:00  157.486847\n",
       "6491 2012-12-31 22:00:00  128.412415\n",
       "6492 2012-12-31 23:00:00   80.845810"
      ]
     },
     "execution_count": 72,
     "metadata": {},
     "output_type": "execute_result"
    }
   ],
   "source": [
    "predictions = m6.predict(testoneHotData)\n",
    "predictions = np.exp(predictions)\n",
    "result = pd.concat([testdata.datetime, pd.Series(predictions)], axis=1)\n",
    "result.tail()"
   ]
  },
  {
   "cell_type": "code",
   "execution_count": 73,
   "metadata": {},
   "outputs": [
    {
     "data": {
      "text/html": [
       "<div>\n",
       "<style>\n",
       "    .dataframe thead tr:only-child th {\n",
       "        text-align: right;\n",
       "    }\n",
       "\n",
       "    .dataframe thead th {\n",
       "        text-align: left;\n",
       "    }\n",
       "\n",
       "    .dataframe tbody tr th {\n",
       "        vertical-align: top;\n",
       "    }\n",
       "</style>\n",
       "<table border=\"1\" class=\"dataframe\">\n",
       "  <thead>\n",
       "    <tr style=\"text-align: right;\">\n",
       "      <th></th>\n",
       "      <th>datetime</th>\n",
       "      <th>count</th>\n",
       "    </tr>\n",
       "  </thead>\n",
       "  <tbody>\n",
       "    <tr>\n",
       "      <th>6488</th>\n",
       "      <td>2012-12-31 19:00:00</td>\n",
       "      <td>271.699249</td>\n",
       "    </tr>\n",
       "    <tr>\n",
       "      <th>6489</th>\n",
       "      <td>2012-12-31 20:00:00</td>\n",
       "      <td>196.457016</td>\n",
       "    </tr>\n",
       "    <tr>\n",
       "      <th>6490</th>\n",
       "      <td>2012-12-31 21:00:00</td>\n",
       "      <td>157.486847</td>\n",
       "    </tr>\n",
       "    <tr>\n",
       "      <th>6491</th>\n",
       "      <td>2012-12-31 22:00:00</td>\n",
       "      <td>128.412415</td>\n",
       "    </tr>\n",
       "    <tr>\n",
       "      <th>6492</th>\n",
       "      <td>2012-12-31 23:00:00</td>\n",
       "      <td>80.845810</td>\n",
       "    </tr>\n",
       "  </tbody>\n",
       "</table>\n",
       "</div>"
      ],
      "text/plain": [
       "                datetime       count\n",
       "6488 2012-12-31 19:00:00  271.699249\n",
       "6489 2012-12-31 20:00:00  196.457016\n",
       "6490 2012-12-31 21:00:00  157.486847\n",
       "6491 2012-12-31 22:00:00  128.412415\n",
       "6492 2012-12-31 23:00:00   80.845810"
      ]
     },
     "execution_count": 73,
     "metadata": {},
     "output_type": "execute_result"
    }
   ],
   "source": [
    "result.columns = ['datetime','count']\n",
    "result[:].tail()"
   ]
  },
  {
   "cell_type": "code",
   "execution_count": 74,
   "metadata": {},
   "outputs": [],
   "source": [
    "result.to_csv(path_or_buf = 'predictions.csv', index=False)"
   ]
  },
  {
   "cell_type": "code",
   "execution_count": null,
   "metadata": {
    "collapsed": true
   },
   "outputs": [],
   "source": []
  }
 ],
 "metadata": {
  "kernelspec": {
   "display_name": "Python 2",
   "language": "python",
   "name": "python2"
  },
  "language_info": {
   "codemirror_mode": {
    "name": "ipython",
    "version": 2
   },
   "file_extension": ".py",
   "mimetype": "text/x-python",
   "name": "python",
   "nbconvert_exporter": "python",
   "pygments_lexer": "ipython2",
   "version": "2.7.13"
  }
 },
 "nbformat": 4,
 "nbformat_minor": 2
}
